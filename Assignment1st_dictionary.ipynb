{
 "cells": [
  {
   "cell_type": "code",
   "execution_count": 1,
   "id": "b87be327-e67c-49ff-a5e1-dc482d6f8f2c",
   "metadata": {},
   "outputs": [],
   "source": [
    "#1st. Sort Python Dictionaries by Key or Value"
   ]
  },
  {
   "cell_type": "code",
   "execution_count": 2,
   "id": "5840fde2-890d-4134-ae09-e015505ae8d8",
   "metadata": {},
   "outputs": [
    {
     "name": "stdout",
     "output_type": "stream",
     "text": [
      "{'baji': 4, 'micky': 3, 'sahoo': 2, 'takemitchy': 1}\n"
     ]
    }
   ],
   "source": [
    "#1st answer\n",
    "x = {'takemitchy': 1, 'sahoo': 2, 'micky': 3, 'baji': 4}\n",
    "z = {i: x[i] for i in sorted(x)}\n",
    "print(z)"
   ]
  },
  {
   "cell_type": "code",
   "execution_count": 3,
   "id": "47c27272-f3e0-4d00-8dd9-18a392fa62d4",
   "metadata": {},
   "outputs": [],
   "source": [
    "#2nd. Handling missing keys in Python dictionaries"
   ]
  },
  {
   "cell_type": "code",
   "execution_count": 4,
   "id": "c147d7fb-68c1-4a41-b52d-56fd309a9269",
   "metadata": {},
   "outputs": [],
   "source": [
    "#3rd. Dictionary with keys having multiple inputs"
   ]
  },
  {
   "cell_type": "code",
   "execution_count": 5,
   "id": "8abd6898-51fc-48e3-b434-46698aabea0e",
   "metadata": {},
   "outputs": [
    {
     "name": "stdout",
     "output_type": "stream",
     "text": [
      "[26, 66, 75, 20]\n"
     ]
    }
   ],
   "source": [
    "#3rd answer \n",
    "x = {'apple': [26,66,75],'banana': [3, 6]}\n",
    "x['apple'].append(20)\n",
    "print(x['apple'])"
   ]
  },
  {
   "cell_type": "code",
   "execution_count": 6,
   "id": "ea00de85-ae83-438d-827c-510a0e645ca0",
   "metadata": {},
   "outputs": [],
   "source": [
    "#4th. Program to find the sum of all items in a dictionary"
   ]
  },
  {
   "cell_type": "code",
   "execution_count": 7,
   "id": "bd34aa16-16fc-4d1b-bdb9-d493c59923e8",
   "metadata": {},
   "outputs": [
    {
     "name": "stdout",
     "output_type": "stream",
     "text": [
      "Sum of all the items in dictionary is:- 60\n"
     ]
    }
   ],
   "source": [
    "dict={'a':10,'b':20,'c':30}\n",
    "total=sum(dict.values())\n",
    "print(\"Sum of all the items in dictionary is:-\",total)"
   ]
  },
  {
   "cell_type": "code",
   "execution_count": 8,
   "id": "b86288c5-ff86-48e9-a913-9a8b95862ec6",
   "metadata": {},
   "outputs": [],
   "source": [
    "#5th. program to find the sum of all items in a dictionary"
   ]
  },
  {
   "cell_type": "code",
   "execution_count": 9,
   "id": "07aff84f-5465-4180-978a-3eaeaf8ee4bf",
   "metadata": {},
   "outputs": [
    {
     "name": "stdout",
     "output_type": "stream",
     "text": [
      "The size of the dictionary is:-  4\n"
     ]
    }
   ],
   "source": [
    "#5th answer\n",
    "dict={'a':10,'b':20,'c':30,'d':40}\n",
    "size=len(dict)\n",
    "print(\"The size of the dictionary is:- \",size)"
   ]
  },
  {
   "cell_type": "code",
   "execution_count": 10,
   "id": "29b96aa2-885e-4282-abf5-93836fe85f73",
   "metadata": {},
   "outputs": [],
   "source": [
    "#6th.  program to find the size of a Dictionary"
   ]
  },
  {
   "cell_type": "code",
   "execution_count": 11,
   "id": "2df51e2a-bae5-4dcb-bf93-456dcd8019e2",
   "metadata": {},
   "outputs": [
    {
     "name": "stdout",
     "output_type": "stream",
     "text": [
      "sorted List [{'name': 'Bob', 'age': 20}, {'name': 'Alice', 'age': 25}, {'name': 'Charlie', 'age': 30}]\n"
     ]
    }
   ],
   "source": [
    "#6th answer\n",
    "list_of_dicts = [\n",
    "    {'name': 'Alice', 'age': 25},\n",
    "    {'name': 'Bob', 'age': 20},\n",
    "    {'name': 'Charlie', 'age': 30}\n",
    "]\n",
    "from operator import itemgetter\n",
    "sorted_list=sorted(list_of_dicts,key=itemgetter('age'))\n",
    "print(\"sorted List\",sorted_list)"
   ]
  },
  {
   "cell_type": "code",
   "execution_count": 12,
   "id": "7a39441d-ba38-4d6a-ac7f-57ed980fa85e",
   "metadata": {},
   "outputs": [],
   "source": [
    "#7th. Ways to sort list of dictionaries by values in Python – Using lambda function"
   ]
  },
  {
   "cell_type": "code",
   "execution_count": 13,
   "id": "0e6362a7-efeb-4590-b761-22f77a7ac584",
   "metadata": {},
   "outputs": [
    {
     "name": "stdout",
     "output_type": "stream",
     "text": [
      "Sorted List  [{'name': 'Bob', 'age': 20}, {'name': 'Alice', 'age': 25}, {'name': 'Charlie', 'age': 30}]\n"
     ]
    }
   ],
   "source": [
    "#7th answer\n",
    "list_of_dicts = [\n",
    "    {'name': 'Alice', 'age': 25},\n",
    "    {'name': 'Bob', 'age': 20},\n",
    "    {'name': 'Charlie', 'age': 30}\n",
    "]\n",
    "sorted_list=sorted(list_of_dicts,key=lambda x:x['age'])\n",
    "print(\"Sorted List \",sorted_list)"
   ]
  },
  {
   "cell_type": "code",
   "execution_count": 14,
   "id": "a3aecc70-ee32-4f50-ad3f-2c00d4a0bba1",
   "metadata": {},
   "outputs": [],
   "source": [
    "#8th. Merging two Dictionaries"
   ]
  },
  {
   "cell_type": "code",
   "execution_count": 15,
   "id": "9eedf5a8-526f-44fe-b3b8-60ebcf2d335f",
   "metadata": {},
   "outputs": [
    {
     "name": "stdout",
     "output_type": "stream",
     "text": [
      "{'a': 1, 'b': 3, 'c': 4}\n"
     ]
    }
   ],
   "source": [
    "#8th answer\n",
    "dict1 = {'a': 1, 'b': 2}\n",
    "dict2 = {'b': 3, 'c': 4}\n",
    "dict1.update(dict2)\n",
    "print(dict1)"
   ]
  },
  {
   "cell_type": "code",
   "execution_count": 16,
   "id": "c2a1c269-a74e-46f6-9d6e-862b99d56043",
   "metadata": {},
   "outputs": [],
   "source": [
    "#9th. Program to create grade calculator in Python"
   ]
  },
  {
   "cell_type": "code",
   "execution_count": 17,
   "id": "3d6b957e-1c33-430b-8fda-de2e9fe60a0e",
   "metadata": {},
   "outputs": [
    {
     "name": "stdout",
     "output_type": "stream",
     "text": [
      "Alice:B\n",
      "Bob:A\n",
      "Charlie:C\n",
      "David:F\n",
      "Eve:D\n"
     ]
    }
   ],
   "source": [
    "#9th answer\n",
    "x={\"Alice\":85,\"Bob\":92,\"Charlie\":76,\"David\":59,\"Eve\":68}\n",
    "def calculate_grade(score):\n",
    "  if score>=90:\n",
    "    return \"A\"\n",
    "  elif score>=80:\n",
    "    return \"B\"\n",
    "  elif score>=70:\n",
    "    return \"C\"\n",
    "  elif score>=60:\n",
    "    return \"D\"\n",
    "  else:\n",
    "    return \"F\"\n",
    "student_grades={}\n",
    "for student,score in x.items():\n",
    "  student_grades[student]=calculate_grade(score)\n",
    "  student_grades[student] = calculate_grade(score)\n",
    "for student,grade in student_grades.items():\n",
    "  print(f\"{student}:{grade}\")"
   ]
  },
  {
   "cell_type": "code",
   "execution_count": 18,
   "id": "f4340b21-abc6-4f5c-bd64-4a377bc478f3",
   "metadata": {},
   "outputs": [],
   "source": [
    "#10th. Insertion at the beginning in OrderedDict"
   ]
  },
  {
   "cell_type": "code",
   "execution_count": 19,
   "id": "0d73f73b-5b33-4070-99f0-6632565b9ae5",
   "metadata": {},
   "outputs": [
    {
     "name": "stdout",
     "output_type": "stream",
     "text": [
      "After insertion at the beginning: OrderedDict({'a': 1, 'b': 2, 'c': 3})\n"
     ]
    }
   ],
   "source": [
    "#10th answer\n",
    "from collections import OrderedDict\n",
    "ordered_dict = OrderedDict([('b', 2), ('c', 3)])\n",
    "new_item = OrderedDict([('a', 1)])\n",
    "ordered_dict = OrderedDict(list(new_item.items()) + list(ordered_dict.items()))\n",
    "print(\"After insertion at the beginning:\",ordered_dict)"
   ]
  },
  {
   "cell_type": "code",
   "execution_count": 20,
   "id": "f6bff55f-afda-43dc-b483-2b6e3865c608",
   "metadata": {},
   "outputs": [],
   "source": [
    "#11th. Find common elements in three sorted arrays by dictionary intersection"
   ]
  },
  {
   "cell_type": "code",
   "execution_count": 21,
   "id": "3990e1a8-b10d-4abe-8892-ef087233be6d",
   "metadata": {},
   "outputs": [
    {
     "name": "stdout",
     "output_type": "stream",
     "text": [
      "Common elements [4, 6]\n"
     ]
    }
   ],
   "source": [
    "#11th answer\n",
    "array1=[1,2,4,5,6]\n",
    "array2=[2,4,6,8]\n",
    "array3=[4,6,8,10]\n",
    "dict1=dict.fromkeys(array1)\n",
    "dict2=dict.fromkeys(array2)\n",
    "dict3=dict.fromkeys(array3)\n",
    "common_elements=dict1.keys() & dict2.keys() & dict3.keys()\n",
    "common_elements=list(common_elements)\n",
    "print(\"Common elements\",common_elements)"
   ]
  },
  {
   "cell_type": "code",
   "execution_count": 22,
   "id": "0f5c97be-e2e9-4365-b0e5-a09ed1c05261",
   "metadata": {},
   "outputs": [],
   "source": [
    "#12th. Dictionary and counter in Python to find winner of election"
   ]
  },
  {
   "cell_type": "code",
   "execution_count": 23,
   "id": "001ad665-b46e-4a84-8742-a5c02d94e994",
   "metadata": {},
   "outputs": [
    {
     "name": "stdout",
     "output_type": "stream",
     "text": [
      "The winner is: Bob\n"
     ]
    }
   ],
   "source": [
    "#12th answer\n",
    "from collections import Counter\n",
    "votes = [\"Alice\", \"Bob\", \"Alice\", \"Charlie\", \"Bob\", \"Alice\", \"Bob\", \"Bob\"]\n",
    "vote_count = Counter(votes)\n",
    "winner = max(vote_count.items(), key=lambda x: (x[1], x[0]))\n",
    "print(\"The winner is:\",winner[0])"
   ]
  },
  {
   "cell_type": "code",
   "execution_count": 24,
   "id": "3b0cbc19-8e1c-4d2b-90b4-75af2cf1c0df",
   "metadata": {},
   "outputs": [],
   "source": [
    "#13th. Key with maximum unique values"
   ]
  },
  {
   "cell_type": "code",
   "execution_count": 25,
   "id": "e0c59883-1cb5-4c26-9c3e-ccbf8968af8c",
   "metadata": {},
   "outputs": [
    {
     "name": "stdout",
     "output_type": "stream",
     "text": [
      "Key with maximum unique values: key1\n"
     ]
    }
   ],
   "source": [
    "#13th answer\n",
    "data = {'key1': [1, 2, 2, 3, 4],'key2': [2, 3, 3, 4],'key3': [4,5,6,6,7]}\n",
    "unique_counts = {key: len(set(values)) for key, values in data.items()}\n",
    "max_key = max(unique_counts, key=unique_counts.get)\n",
    "print(\"Key with maximum unique values:\",max_key)"
   ]
  },
  {
   "cell_type": "code",
   "execution_count": 26,
   "id": "8b29f255-cd77-415e-afb9-ec4f2837887d",
   "metadata": {},
   "outputs": [],
   "source": [
    "#14th. Find all duplicate characters in string"
   ]
  },
  {
   "cell_type": "code",
   "execution_count": 27,
   "id": "52b01125-78fb-4881-9ce0-3f50036cc96e",
   "metadata": {},
   "outputs": [
    {
     "name": "stdout",
     "output_type": "stream",
     "text": [
      "Duplicate characters: ['r', 'g', 'm']\n"
     ]
    }
   ],
   "source": [
    "#14th answer\n",
    "from collections import Counter\n",
    "string = \"programming\"\n",
    "char_count = Counter(string)\n",
    "duplicates = [char for char, count in char_count.items() if count > 1]\n",
    "print(\"Duplicate characters:\",duplicates)"
   ]
  },
  {
   "cell_type": "code",
   "execution_count": 28,
   "id": "93e5cb97-89d9-49b8-9942-0b17c789367e",
   "metadata": {},
   "outputs": [],
   "source": [
    "#15th. Group Similar items to Dictionary Values List"
   ]
  },
  {
   "cell_type": "code",
   "execution_count": 29,
   "id": "b2a1e29f-dab9-4053-b26c-ab7accb9be94",
   "metadata": {},
   "outputs": [
    {
     "name": "stdout",
     "output_type": "stream",
     "text": [
      "Grouped words by first letter: {'a': ['apple', 'apricot', 'avocado'], 'b': ['banana', 'blueberry'], 'c': ['cherry', 'carrot']}\n"
     ]
    }
   ],
   "source": [
    "#15th answer\n",
    "words = [\"apple\", \"apricot\", \"banana\", \"cherry\", \"blueberry\", \"avocado\", \"carrot\"]\n",
    "grouped_words = {}\n",
    "for word in words:\n",
    "    key = word[0]\n",
    "    if key not in grouped_words:\n",
    "        grouped_words[key] = [] \n",
    "    grouped_words[key].append(word)\n",
    "print(\"Grouped words by first letter:\",grouped_words)"
   ]
  },
  {
   "cell_type": "code",
   "execution_count": 30,
   "id": "93d75fcb-4517-4859-9c3d-c8657fd6cae7",
   "metadata": {},
   "outputs": [],
   "source": [
    "#16th. Replace String by Kth Dictionary value"
   ]
  },
  {
   "cell_type": "code",
   "execution_count": 31,
   "id": "4fd4469b-293e-4763-9784-362e596992b5",
   "metadata": {},
   "outputs": [
    {
     "name": "stdout",
     "output_type": "stream",
     "text": [
      "Replaced string: cherry\n"
     ]
    }
   ],
   "source": [
    "#16th answer\n",
    "data = {1: \"apple\", 2: \"banana\", 3: \"cherry\", 4: \"date\", 5: \"elderberry\"}\n",
    "original_string = \"fruit\"\n",
    "k = 3  \n",
    "if 1 <= k <= len(data):\n",
    "    replacement_value = list(data.values())[k - 1]\n",
    "    new_string = replacement_value\n",
    "else:\n",
    "    new_string = original_string \n",
    "\n",
    "print(\"Replaced string:\",new_string)"
   ]
  },
  {
   "cell_type": "code",
   "execution_count": 32,
   "id": "16a1b922-ee20-4814-92b3-8f68d7ed8834",
   "metadata": {},
   "outputs": [],
   "source": [
    "#17th. Ways to remove a key from dictionary"
   ]
  },
  {
   "cell_type": "code",
   "execution_count": 33,
   "id": "caed10e6-eee0-4109-b06d-b6aaf1653fe1",
   "metadata": {},
   "outputs": [
    {
     "name": "stdout",
     "output_type": "stream",
     "text": [
      "{'aman': 33, 'school': 33}\n",
      "['c', 3]\n"
     ]
    }
   ],
   "source": [
    "#17th answer\n",
    "#1st way\n",
    "x = {\"aman\": 33, \"sher\": 232, \"school\": 33}\n",
    "del x[\"sher\"]\n",
    "print(x)\n",
    "#2nd way\n",
    "x = {\"a\": 1, \"b\": 2, \"c\": 3}\n",
    "z, a = x.popitem()\n",
    "y=(z,a)\n",
    "print(list(y))"
   ]
  },
  {
   "cell_type": "code",
   "execution_count": 34,
   "id": "fb05afe6-c368-4d94-ab83-bd723a13b550",
   "metadata": {},
   "outputs": [],
   "source": [
    "#18th. Replace words from Dictionary"
   ]
  },
  {
   "cell_type": "code",
   "execution_count": 35,
   "id": "5d3fee6f-aa1f-4486-8cda-475163873798",
   "metadata": {},
   "outputs": [
    {
     "name": "stdout",
     "output_type": "stream",
     "text": [
      "Hello everyone what'sup \n"
     ]
    }
   ],
   "source": [
    "#18th answer\n",
    "x = \"Hello bhailog kya haal chal \"\n",
    "replacements = {\"bhailog\": \"everyone\", \"kya haal chal\": \"what'sup\"}\n",
    "for old, new in replacements.items():\n",
    "    x = x.replace(old, new)\n",
    "print(x)"
   ]
  },
  {
   "cell_type": "code",
   "execution_count": 36,
   "id": "ba779196-f746-4bc0-b3ff-bfea92bb0c30",
   "metadata": {},
   "outputs": [],
   "source": [
    "#19th. Remove Dictionary Key Words"
   ]
  },
  {
   "cell_type": "code",
   "execution_count": 37,
   "id": "2fed49d6-f183-4c69-9ec7-e1ce9cd378e5",
   "metadata": {},
   "outputs": [
    {
     "name": "stdout",
     "output_type": "stream",
     "text": [
      "{'aman': 33, 'school': 33}\n"
     ]
    }
   ],
   "source": [
    "#19th answer\n",
    "x = {\"aman\": 33, \"sher\": 232, \"school\": 33}\n",
    "del x[\"sher\"]\n",
    "print(x)"
   ]
  },
  {
   "cell_type": "code",
   "execution_count": 38,
   "id": "4b791155-b20a-4501-b190-00de3c227d0a",
   "metadata": {},
   "outputs": [],
   "source": [
    "#20th. Remove duplicate values across Dictionary Values"
   ]
  },
  {
   "cell_type": "code",
   "execution_count": 39,
   "id": "8ed74691-e9f7-4ed8-b0f8-1abdfa45de71",
   "metadata": {},
   "outputs": [
    {
     "name": "stdout",
     "output_type": "stream",
     "text": [
      "{'regular': ['bdmoshi', 'salmon'], 'shock': ['kese', 'hua'], 'song': ['gajina', 'dgdiyan']}\n"
     ]
    }
   ],
   "source": [
    "#20th answer\n",
    "data = {\"regular\": [\"bdmoshi\",\"salmon\"],\"shock\": [\"kese\",\"hua\"],\"song\": [\"gajina\",\"dgdiyan\"]}\n",
    "for key, value in data.items():\n",
    "    data[key] = list(dict.fromkeys(value))\n",
    "print(data)"
   ]
  },
  {
   "cell_type": "code",
   "execution_count": 40,
   "id": "13356b28-7204-47b0-aad3-a9f12195253d",
   "metadata": {},
   "outputs": [],
   "source": [
    "#21st. Dictionary to find mirror characters in a string"
   ]
  },
  {
   "cell_type": "code",
   "execution_count": 41,
   "id": "697b3bf6-e560-4003-935f-bdc1d80c28de",
   "metadata": {},
   "outputs": [
    {
     "name": "stdout",
     "output_type": "stream",
     "text": [
      "{'a': 'a', 'b': 'b', 'c': 'c'}\n"
     ]
    }
   ],
   "source": [
    "#21st answer\n",
    "text = \"abccba\"\n",
    "mirror_dict = {}\n",
    "for i in range(len(text)//2):\n",
    "    left_char = text[i]\n",
    "    right_char = text[len(text)-i-1]\n",
    "    mirror_dict[left_char] = right_char\n",
    "    mirror_dict[right_char] = left_char\n",
    "print(mirror_dict)"
   ]
  },
  {
   "cell_type": "code",
   "execution_count": 42,
   "id": "df73767e-3340-45aa-8c86-6eaf18fa9b26",
   "metadata": {},
   "outputs": [],
   "source": [
    "#22nd. Counting the frequencies in a list using dictionary in Python"
   ]
  },
  {
   "cell_type": "code",
   "execution_count": 43,
   "id": "1ca4910b-adc9-43f4-8cb7-79df4a5d7586",
   "metadata": {},
   "outputs": [
    {
     "name": "stdout",
     "output_type": "stream",
     "text": [
      "{'apple': 3, 'banana': 2, 'orange': 2}\n"
     ]
    }
   ],
   "source": [
    "#22nd answer\n",
    "data = [\"apple\", \"banana\", \"apple\", \"orange\", \"banana\", \"apple\", \"orange\"]\n",
    "frequency_dict = {}\n",
    "for item in data:\n",
    "    if item in frequency_dict:\n",
    "        frequency_dict[item] += 1 \n",
    "    else:\n",
    "        frequency_dict[item] = 1 \n",
    "print(frequency_dict)"
   ]
  },
  {
   "cell_type": "code",
   "execution_count": 44,
   "id": "a0b88c48-0054-4795-98ec-21a235a0e50b",
   "metadata": {},
   "outputs": [],
   "source": [
    "#23rd. Dictionary Values Mean"
   ]
  },
  {
   "cell_type": "code",
   "execution_count": 45,
   "id": "10740de2-dd14-4556-94ac-342bd73b220f",
   "metadata": {},
   "outputs": [
    {
     "name": "stdout",
     "output_type": "stream",
     "text": [
      "Alice\n"
     ]
    }
   ],
   "source": [
    "#23rd answer\n",
    "my_dict = {\"name\": \"Alice\",\"age\": 25,\"city\": \"New York\"}\n",
    "print(my_dict[\"name\"])"
   ]
  },
  {
   "cell_type": "code",
   "execution_count": 46,
   "id": "4015b62c-fa55-4fa1-a56b-e2943a2a7eb8",
   "metadata": {},
   "outputs": [],
   "source": [
    "#24th. Python counter and dictionary intersection example (Make a string using deletion and rearrangement"
   ]
  },
  {
   "cell_type": "code",
   "execution_count": 47,
   "id": "790079e4-1b21-4094-b85a-ddf0072676c0",
   "metadata": {},
   "outputs": [
    {
     "name": "stdout",
     "output_type": "stream",
     "text": [
      "Possible\n"
     ]
    }
   ],
   "source": [
    "#24th answer\n",
    "from collections import Counter\n",
    "def makeString(str1,str2):\n",
    "    dict1 = Counter(str1)\n",
    "    dict2 = Counter(str2)\n",
    "    result = dict1 & dict2\n",
    "    return result == dict1\n",
    "if __name__ == \"__main__\":\n",
    "    str1 = 'ABHISHEKsinGH'\n",
    "    str2 = 'gfhfBHkooIHnfndSHEKsiAnG'\n",
    "    if (makeString(str1,str2)==True):\n",
    "        print(\"Possible\")\n",
    "    else:\n",
    "        print(\"Not Possible\")"
   ]
  },
  {
   "cell_type": "code",
   "execution_count": 48,
   "id": "5ffd6e27-8c28-4cae-b965-26713ddf3622",
   "metadata": {},
   "outputs": [],
   "source": [
    "#25th. dictionary, set and counter to check if frequencies can become same"
   ]
  },
  {
   "cell_type": "code",
   "execution_count": 49,
   "id": "5d5ede94-4d2a-4464-aa53-cb75446f9089",
   "metadata": {},
   "outputs": [],
   "source": [
    "#26th. Scraping And Finding Ordered Words In A Dictionary using Python"
   ]
  },
  {
   "cell_type": "code",
   "execution_count": 50,
   "id": "eee71563-ffa8-47cf-a000-b2cc34271a9b",
   "metadata": {},
   "outputs": [],
   "source": [
    "#227th. Possible Words using given characters in Python"
   ]
  },
  {
   "cell_type": "code",
   "execution_count": 51,
   "id": "87a24d37-579d-4c4a-8261-b37420ffce97",
   "metadata": {},
   "outputs": [],
   "source": [
    "#28th. Maximum record value key in dictionary"
   ]
  },
  {
   "cell_type": "code",
   "execution_count": 52,
   "id": "7f1a858b-ae01-469c-962a-4c4b036e64f4",
   "metadata": {},
   "outputs": [
    {
     "name": "stdout",
     "output_type": "stream",
     "text": [
      "Key with maximum value: banana\n"
     ]
    }
   ],
   "source": [
    "#28th answer\n",
    "my_dict = {\"apple\": 5,\"banana\": 10,\"orange\": 7,\"grapes\": 3}\n",
    "max_key = max(my_dict, key=my_dict.get)\n",
    "print(\"Key with maximum value:\",max_key)"
   ]
  },
  {
   "cell_type": "code",
   "execution_count": 53,
   "id": "1bbd39f1-8ebc-4e02-b2fd-76fa91db1c69",
   "metadata": {},
   "outputs": [],
   "source": [
    "#29th. Extract values of Particular Key in Nested Values"
   ]
  },
  {
   "cell_type": "code",
   "execution_count": 54,
   "id": "a88f4dda-abf7-4d1e-8266-47b662f3d6eb",
   "metadata": {},
   "outputs": [
    {
     "name": "stdout",
     "output_type": "stream",
     "text": [
      "{'student1': {'name': 'Alice', 'age': 20}, 'student2': {'name': 'Bob', 'age': 22}, 'student3': {'name': 'Charlie', 'age': 23}}\n",
      "{'name': 'Bob', 'age': 22}\n"
     ]
    }
   ],
   "source": [
    "#29th answer\n",
    "nested_dict = {\"student1\": {\"name\": \"Alice\", \"age\": 20},\"student2\": {\"name\": \"Bob\", \"age\": 22},\"student3\": {\"name\": \"Charlie\", \"age\": 23}}\n",
    "print(nested_dict)\n",
    "print(nested_dict['student2'])"
   ]
  },
  {
   "cell_type": "code",
   "execution_count": null,
   "id": "0e60f438-d9f4-49cb-a782-c01d517642d8",
   "metadata": {},
   "outputs": [],
   "source": []
  }
 ],
 "metadata": {
  "kernelspec": {
   "display_name": "Python 3 (ipykernel)",
   "language": "python",
   "name": "python3"
  },
  "language_info": {
   "codemirror_mode": {
    "name": "ipython",
    "version": 3
   },
   "file_extension": ".py",
   "mimetype": "text/x-python",
   "name": "python",
   "nbconvert_exporter": "python",
   "pygments_lexer": "ipython3",
   "version": "3.12.4"
  }
 },
 "nbformat": 4,
 "nbformat_minor": 5
}
