{
 "cells": [
  {
   "cell_type": "code",
   "execution_count": 159,
   "id": "4ba3e3c7-9b3c-4713-8e23-fdae3e1a5a70",
   "metadata": {},
   "outputs": [
    {
     "name": "stdout",
     "output_type": "stream",
     "text": [
      "['naina', 345, 345, 435, 436, 'sonakshi']\n"
     ]
    }
   ],
   "source": [
    "#1st answer\n",
    "List=[1434,345,345,435,436,34]\n",
    "List[0],List[-1]=\"naina\",\"sonakshi\"\n",
    "print(List)"
   ]
  },
  {
   "cell_type": "code",
   "execution_count": 3,
   "id": "8b5d2830-30c4-493e-8d15-4b2212ed2419",
   "metadata": {},
   "outputs": [
    {
     "name": "stdout",
     "output_type": "stream",
     "text": [
      "['sonakshi', 'kakul', 'Shivam', 3, 1]\n"
     ]
    }
   ],
   "source": [
    "#2nd answer\n",
    "List=[1, 'kakul', 'Shivam', 3, 'sonakshi']\n",
    "List[0],List[-1]=List[-1],List[0]\n",
    "print(List)"
   ]
  },
  {
   "cell_type": "code",
   "execution_count": 51,
   "id": "294be21e-44c6-4c55-ac32-98e18bb64bf2",
   "metadata": {},
   "outputs": [
    {
     "name": "stdout",
     "output_type": "stream",
     "text": [
      "['naina', 'kakul', 'Shivam', 'sonakshi', 'Nihal']\n"
     ]
    }
   ],
   "source": [
    "#3rd answer\n",
    "List=['naina', 'kakul', 'Shivam', 'Nihal', 'sonakshi']\n",
    "List[3],List[4]=List[4],List[3]\n",
    "print(List)"
   ]
  },
  {
   "cell_type": "code",
   "execution_count": 7,
   "id": "c6de6d81-f7f9-4a2e-9fec-7f31e6c9ca37",
   "metadata": {},
   "outputs": [
    {
     "name": "stdout",
     "output_type": "stream",
     "text": [
      "4\n"
     ]
    }
   ],
   "source": [
    "#4th answer\n",
    "List=[1, 'kakul', 'Shivam', 'sonakshi']\n",
    "print(len(List))"
   ]
  },
  {
   "cell_type": "code",
   "execution_count": 55,
   "id": "a81e1f11-a5c7-40ab-8339-2e79bd09faa9",
   "metadata": {},
   "outputs": [
    {
     "name": "stdout",
     "output_type": "stream",
     "text": [
      "3434\n"
     ]
    }
   ],
   "source": [
    "#5th answer\n",
    "List=[3434,3432]\n",
    "print(max(List))"
   ]
  },
  {
   "cell_type": "code",
   "execution_count": 67,
   "id": "d29b7d1c-63ae-4759-8293-ac9664ac3c35",
   "metadata": {},
   "outputs": [
    {
     "name": "stdout",
     "output_type": "stream",
     "text": [
      "23434\n"
     ]
    }
   ],
   "source": [
    "#6th answer\n",
    "List=[41341,23434]\n",
    "print(min(List))"
   ]
  },
  {
   "cell_type": "code",
   "execution_count": 5,
   "id": "7c1fc010-a99f-4235-80eb-bfb1e6fd0045",
   "metadata": {},
   "outputs": [
    {
     "name": "stdout",
     "output_type": "stream",
     "text": [
      "Yes it exists\n"
     ]
    }
   ],
   "source": [
    "#7th answer\n",
    "List=['naina', 'kakul', 'Shivam', 'Nihal', 'sonakshi']\n",
    "if 'kakul' in  List:\n",
    "    print(\"Yes it exists\")\n",
    "else:\n",
    "    print(\"Not found\")"
   ]
  },
  {
   "cell_type": "code",
   "execution_count": 108,
   "id": "8147a2ab-e0d3-4944-8c9e-6545e6d7c814",
   "metadata": {},
   "outputs": [
    {
     "name": "stdout",
     "output_type": "stream",
     "text": [
      "[]\n"
     ]
    }
   ],
   "source": [
    "#8th answer\n",
    "List=['naina', 'kakul', 'Shivam', 'Nihal', 'sonakshi']\n",
    "List.clear()\n",
    "print(List)"
   ]
  },
  {
   "cell_type": "code",
   "execution_count": 140,
   "id": "04074987-cecc-457b-8fe3-5a2171b37edb",
   "metadata": {},
   "outputs": [
    {
     "name": "stdout",
     "output_type": "stream",
     "text": [
      "[6, 5, 4, 3, 2, 1]\n"
     ]
    }
   ],
   "source": [
    "#9th answer\n",
    "List=[1,2,3,4,5,6]\n",
    "List.sort( reverse = True)\n",
    "print(List)"
   ]
  },
  {
   "cell_type": "code",
   "execution_count": 82,
   "id": "ed270f75-911d-4067-bd52-803f68249ebc",
   "metadata": {},
   "outputs": [
    {
     "name": "stdout",
     "output_type": "stream",
     "text": [
      "['muskan', 'khushi', 'Sunil', 'Nikhil', 'sonali']\n"
     ]
    }
   ],
   "source": [
    "#10th answer\n",
    "List=['muskan', 'khushi', 'Sunil', 'Nikhil', 'sonali']\n",
    "List2=List.copy()\n",
    "print(List2)"
   ]
  },
  {
   "cell_type": "code",
   "execution_count": 11,
   "id": "8f0041a0-7f82-442b-9d17-5b62a39d6ba8",
   "metadata": {},
   "outputs": [
    {
     "name": "stdout",
     "output_type": "stream",
     "text": [
      "3\n"
     ]
    }
   ],
   "source": [
    "#11 answer\n",
    "List=[1,2345,223,22,3,3,3,22,21,]\n",
    "Number=List.count(3)\n",
    "print(Number)"
   ]
  },
  {
   "cell_type": "code",
   "execution_count": 160,
   "id": "b1909753-16e6-48e0-9e8b-b93c1c634d50",
   "metadata": {},
   "outputs": [
    {
     "name": "stdout",
     "output_type": "stream",
     "text": [
      "675\n",
      "96.42857142857143\n"
     ]
    }
   ],
   "source": [
    "#12th answer\n",
    "List=[1,32,2,312,3,12,313]\n",
    "print(sum(List))\n",
    "print(sum(List)/len(List))    #we can't use avg formula in list so we divide total sum of list by the length of the list"
   ]
  },
  {
   "cell_type": "code",
   "execution_count": 5,
   "id": "69e57bc6-740b-4999-ab81-5c49ed3da933",
   "metadata": {},
   "outputs": [
    {
     "name": "stdout",
     "output_type": "stream",
     "text": [
      "54\n"
     ]
    }
   ],
   "source": [
    "#13th answer\n",
    "x=[1,2,3,23,2,23]\n",
    "y=0\n",
    "for i in x:\n",
    "    y+=i\n",
    "print(y)"
   ]
  },
  {
   "cell_type": "code",
   "execution_count": 150,
   "id": "9d114157-191a-4f01-ba26-06d5fc688221",
   "metadata": {},
   "outputs": [
    {
     "name": "stdout",
     "output_type": "stream",
     "text": [
      "18216\n"
     ]
    }
   ],
   "source": [
    "#14th answer\n",
    "x=[23,2,3,11,12]\n",
    "y=1\n",
    "for i in x:\n",
    "  y*=i\n",
    "print(y)"
   ]
  },
  {
   "cell_type": "code",
   "execution_count": 152,
   "id": "eeea5d63-be46-4d17-94a3-e928ba2cb70f",
   "metadata": {},
   "outputs": [
    {
     "name": "stdout",
     "output_type": "stream",
     "text": [
      "2\n"
     ]
    }
   ],
   "source": [
    "#15th answer\n",
    "List=[23,2,3,11,12]\n",
    "print(min(List))"
   ]
  },
  {
   "cell_type": "code",
   "execution_count": 153,
   "id": "c4925ccc-b415-4473-a3b1-92171659607f",
   "metadata": {},
   "outputs": [
    {
     "name": "stdout",
     "output_type": "stream",
     "text": [
      "11\n"
     ]
    }
   ],
   "source": [
    "#16th answer\n",
    "List=[3,2,3,11,1]\n",
    "print(max(List))"
   ]
  },
  {
   "cell_type": "code",
   "execution_count": 169,
   "id": "7fe4a361-69b0-45e3-a20b-fc599898b136",
   "metadata": {},
   "outputs": [],
   "source": [
    "#17th answer\n",
    "y=[21,45,78,43]\n",
    "z=[]\n",
    "if z==max(y):\n",
    "    print(z)"
   ]
  },
  {
   "cell_type": "code",
   "execution_count": 3,
   "id": "9f488554-9d31-40bd-808c-349a8d366b12",
   "metadata": {},
   "outputs": [
    {
     "name": "stdout",
     "output_type": "stream",
     "text": [
      "12\n",
      "16\n",
      "234\n"
     ]
    }
   ],
   "source": [
    "#18th answer\n",
    "c=[12,13,15,16,234,23,33]\n",
    "for i in c:\n",
    "    if i%2==0:\n",
    "        print(i)"
   ]
  },
  {
   "cell_type": "code",
   "execution_count": 7,
   "id": "86abf615-c25e-4927-bbf6-067134db406a",
   "metadata": {},
   "outputs": [
    {
     "name": "stdout",
     "output_type": "stream",
     "text": [
      "13\n",
      "15\n",
      "23\n",
      "33\n"
     ]
    }
   ],
   "source": [
    "#19th answer\n",
    "c=[12,13,15,16,234,23,33]\n",
    "for i in c:\n",
    "    if i%2==1:\n",
    "        print(i)"
   ]
  },
  {
   "cell_type": "code",
   "execution_count": 9,
   "id": "56a6bf09-762b-45fd-ab61-9377a959a532",
   "metadata": {},
   "outputs": [
    {
     "name": "stdout",
     "output_type": "stream",
     "text": [
      "0\n",
      "2\n",
      "4\n",
      "6\n",
      "8\n"
     ]
    }
   ],
   "source": [
    "#20th answer\n",
    "for i in range(10):\n",
    "    if i%2==0:\n",
    "        print (i)"
   ]
  },
  {
   "cell_type": "code",
   "execution_count": 15,
   "id": "748217e3-ac21-4c16-b687-13bc54e15e0a",
   "metadata": {},
   "outputs": [
    {
     "name": "stdout",
     "output_type": "stream",
     "text": [
      "1\n",
      "3\n",
      "5\n",
      "7\n",
      "9\n",
      "11\n",
      "13\n"
     ]
    }
   ],
   "source": [
    "#21st answer\n",
    "for i in range(15):\n",
    "    if i%2==1:\n",
    "        print(i)"
   ]
  },
  {
   "cell_type": "code",
   "execution_count": 27,
   "id": "b6ef5f9c-34ce-4c47-b9fe-815fbeb7167f",
   "metadata": {},
   "outputs": [
    {
     "name": "stdout",
     "output_type": "stream",
     "text": [
      "count of even is  8\n",
      "count of odd is  9\n"
     ]
    }
   ],
   "source": [
    "#22nd answer \n",
    "x=[1,2,3,4,5,6,7,8,9,12,23,32,35,65,54,46,45]\n",
    "even=0\n",
    "odd=0\n",
    "for i in x:\n",
    "    if i%2==0:\n",
    "        even= even+1\n",
    "    else:\n",
    "        odd= odd+1\n",
    "print(\"count of even is \",even)\n",
    "print(\"count of odd is \",odd)"
   ]
  },
  {
   "cell_type": "code",
   "execution_count": 25,
   "id": "904f3fef-da8b-4271-be18-80aa49ca341b",
   "metadata": {},
   "outputs": [
    {
     "name": "stdout",
     "output_type": "stream",
     "text": [
      "433\n",
      "3432\n",
      "3432\n",
      "43\n"
     ]
    }
   ],
   "source": [
    "#23rd answer\n",
    "x=[-1,-2,-3,-324,433,3432,3432,43]\n",
    "for i in x:\n",
    "    if i>0:\n",
    "        print(i)"
   ]
  },
  {
   "cell_type": "code",
   "execution_count": 25,
   "id": "bf33708a-3865-43a0-b5ae-a372f3843154",
   "metadata": {},
   "outputs": [
    {
     "name": "stdout",
     "output_type": "stream",
     "text": [
      "-1\n",
      "-2\n",
      "-3\n",
      "-324\n"
     ]
    }
   ],
   "source": [
    "#24th answer\n",
    "x=[-1,-2,-3,-324,433,3432,3432,43]\n",
    "for i in x:\n",
    "    if i<0:\n",
    "        print(i)"
   ]
  },
  {
   "cell_type": "code",
   "execution_count": 19,
   "id": "18946004-3f39-4845-9831-7971ed19b657",
   "metadata": {},
   "outputs": [
    {
     "name": "stdout",
     "output_type": "stream",
     "text": [
      "-10\n",
      "-9\n",
      "-8\n",
      "-7\n",
      "-6\n",
      "-5\n",
      "-4\n",
      "-3\n",
      "-2\n",
      "-1\n"
     ]
    }
   ],
   "source": [
    "#25th answer\n",
    "for i in range(-10,10):\n",
    "    if i<0:\n",
    "        print(i)"
   ]
  },
  {
   "cell_type": "code",
   "execution_count": 27,
   "id": "f9da738e-a08b-43ff-99b7-50eba402354a",
   "metadata": {},
   "outputs": [
    {
     "name": "stdout",
     "output_type": "stream",
     "text": [
      "1\n",
      "2\n",
      "3\n",
      "4\n",
      "5\n",
      "6\n",
      "7\n",
      "8\n",
      "9\n"
     ]
    }
   ],
   "source": [
    "#26th answer\n",
    "for i in range(-10,10):\n",
    "    if i>0:\n",
    "        print(i)"
   ]
  },
  {
   "cell_type": "code",
   "execution_count": 17,
   "id": "b22f3d7e-2765-4a4c-be7c-3dcd50617165",
   "metadata": {},
   "outputs": [
    {
     "name": "stdout",
     "output_type": "stream",
     "text": [
      "count of postive number is 5\n",
      "count of negative number is 4\n"
     ]
    }
   ],
   "source": [
    "#27th answer\n",
    "x=[-1,-2,-3,-324,64,433,3432,3432,43]\n",
    "positive=0\n",
    "negative=0\n",
    "for i in x:\n",
    "    if i>0:\n",
    "        positive= positive+1\n",
    "    else:\n",
    "        negative= negative+1\n",
    "print(\"count of postive number is\", positive)\n",
    "print(\"count of negative number is\", negative)"
   ]
  },
  {
   "cell_type": "code",
   "execution_count": 39,
   "id": "3a92da9b-9754-4e4e-ad7e-b4d39603d2a0",
   "metadata": {},
   "outputs": [
    {
     "name": "stdout",
     "output_type": "stream",
     "text": [
      "['muskan', 'khushi', 'sonali']\n"
     ]
    }
   ],
   "source": [
    "#28th answer\n",
    "List=['muskan', 'khushi', 'Sunil', 'Nikhil', 'sonali']\n",
    "x=['Sunil','Nikhil']\n",
    "for i in x:\n",
    "    if i!=List:\n",
    "      List.remove(i)\n",
    "print(List)"
   ]
  },
  {
   "cell_type": "code",
   "execution_count": 3,
   "id": "cd037078-782e-4430-a7b0-2b28dea9ad65",
   "metadata": {},
   "outputs": [
    {
     "name": "stdout",
     "output_type": "stream",
     "text": [
      "[('muskan', 2, 3, 32, 232), ('khushi', 434, 324324, 23, 43), ('Sunil', 2334, 'nihal'), ('Nikhil', 'sonali'), 343]\n"
     ]
    }
   ],
   "source": [
    "#29th answer\n",
    "List=[('muskan',2,3,32,232),(), ('khushi',434,324324,23,43),(),('Sunil',2334,'nihal'), (),('Nikhil', 'sonali'),(),(343)]\n",
    "for i in List:\n",
    "    if (i==()):\n",
    "      List.remove(i)\n",
    "print(List)"
   ]
  },
  {
   "cell_type": "code",
   "execution_count": 1,
   "id": "8f36442c-74be-4019-b4d7-47f6c96296bf",
   "metadata": {},
   "outputs": [
    {
     "name": "stdout",
     "output_type": "stream",
     "text": [
      "[1, 2, 5, 9]\n"
     ]
    }
   ],
   "source": [
    "#30 answer\n",
    "x= [1, 2, 1, 2, 3, 4, 5, 1, 1, 2, 5, 6, 7, 8, 9, 9]\n",
    "y= []\n",
    "z = []\n",
    "for i in x:\n",
    "    if i not in y:\n",
    "        y.append(i)\n",
    "    elif i not in z: \n",
    "        z.append(i)\n",
    "print(z)"
   ]
  },
  {
   "cell_type": "code",
   "execution_count": null,
   "id": "315d6d9b-1ad1-4b81-8a3b-1d4fd9516ee4",
   "metadata": {},
   "outputs": [],
   "source": []
  }
 ],
 "metadata": {
  "kernelspec": {
   "display_name": "Python 3 (ipykernel)",
   "language": "python",
   "name": "python3"
  },
  "language_info": {
   "codemirror_mode": {
    "name": "ipython",
    "version": 3
   },
   "file_extension": ".py",
   "mimetype": "text/x-python",
   "name": "python",
   "nbconvert_exporter": "python",
   "pygments_lexer": "ipython3",
   "version": "3.12.7"
  }
 },
 "nbformat": 4,
 "nbformat_minor": 5
}
