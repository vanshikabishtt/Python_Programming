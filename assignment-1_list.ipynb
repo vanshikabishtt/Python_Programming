{
 "cells": [
  {
   "cell_type": "code",
   "execution_count": 1,
   "id": "7845b8c7-26e5-428b-a9ea-3ac45427b138",
   "metadata": {},
   "outputs": [
    {
     "name": "stdout",
     "output_type": "stream",
     "text": [
      "15\n"
     ]
    }
   ],
   "source": [
    "#ASSIGNMENT:\n",
    "\n",
    "#WAP TO FIND THE SUM OF THE FIRST 5 NATURAL NUMBERS(1,2,3,4,5):\n",
    "x=[1,2,3,4,5]\n",
    "sum=0\n",
    "for i in x:\n",
    "    sum=sum+i\n",
    "print(sum)"
   ]
  },
  {
   "cell_type": "code",
   "execution_count": 2,
   "id": "5a8c24ea-9958-4b05-9d55-ccdd20de38b8",
   "metadata": {},
   "outputs": [
    {
     "name": "stdout",
     "output_type": "stream",
     "text": [
      "even count= 6\n",
      "odd count= 4\n"
     ]
    }
   ],
   "source": [
    "#COUNT EVEN AND ODD NUMBER IN A LIST:\n",
    "x=[1,2,3,4,5,6,7,8,20,10]\n",
    "even_count=0\n",
    "odd_count=0\n",
    "for i in x:\n",
    "    if i%2==0:\n",
    "        even_count=even_count+1\n",
    "    else:\n",
    "        odd_count=odd_count+1\n",
    "print(\"even count=\",even_count)\n",
    "print(\"odd count=\",odd_count)"
   ]
  },
  {
   "cell_type": "code",
   "execution_count": 3,
   "id": "7457e92a-b4f4-4ee0-a819-4649bb91ace0",
   "metadata": {},
   "outputs": [
    {
     "name": "stdout",
     "output_type": "stream",
     "text": [
      "10\n",
      "9\n",
      "8\n",
      "7\n",
      "6\n",
      "5\n",
      "4\n",
      "3\n",
      "2\n",
      "1\n"
     ]
    }
   ],
   "source": [
    "#WAP TO PRINT NUMBERS FROM 10 TO 1 USING A FOR LOOP:\n",
    "for i in range(10,0,-1):\n",
    "    print(i)"
   ]
  },
  {
   "cell_type": "code",
   "execution_count": 4,
   "id": "e4a67d78-a3fc-4354-b776-f5b38fa06f13",
   "metadata": {},
   "outputs": [
    {
     "name": "stdout",
     "output_type": "stream",
     "text": [
      "3\n"
     ]
    }
   ],
   "source": [
    "#WAP TO COUNT THE NUMBER OF VOWELS IN A STRING USING A FOR LOOP:\n",
    "string=\"hello world\"\n",
    "vowels=\"aeiou\"\n",
    "count=0\n",
    "for i in string:\n",
    "    if i in vowels:\n",
    "        count=count+1\n",
    "print(count)"
   ]
  },
  {
   "cell_type": "code",
   "execution_count": 5,
   "id": "64884f92-cf26-425a-b437-a579ca2d0a60",
   "metadata": {},
   "outputs": [
    {
     "name": "stdout",
     "output_type": "stream",
     "text": [
      "3\n"
     ]
    }
   ],
   "source": [
    "#WAP TO FIND THE SMALLEST NUMBER IN A LIST USING FOR LOOP:\n",
    "x=[11,21,3,4,5,6,7,8,9,10]\n",
    "smallest=x[0]\n",
    "for i in x:\n",
    "    if i<smallest:\n",
    "        smallest=i\n",
    "print(smallest)"
   ]
  },
  {
   "cell_type": "code",
   "execution_count": null,
   "id": "6bba48b9-e833-44fd-a7cd-9ce071777610",
   "metadata": {},
   "outputs": [],
   "source": []
  }
 ],
 "metadata": {
  "kernelspec": {
   "display_name": "Python 3 (ipykernel)",
   "language": "python",
   "name": "python3"
  },
  "language_info": {
   "codemirror_mode": {
    "name": "ipython",
    "version": 3
   },
   "file_extension": ".py",
   "mimetype": "text/x-python",
   "name": "python",
   "nbconvert_exporter": "python",
   "pygments_lexer": "ipython3",
   "version": "3.12.7"
  }
 },
 "nbformat": 4,
 "nbformat_minor": 5
}
